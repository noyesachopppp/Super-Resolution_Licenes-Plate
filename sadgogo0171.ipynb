{
 "cells": [
  {
   "cell_type": "code",
   "execution_count": 1,
   "id": "ac9c0db0",
   "metadata": {},
   "outputs": [],
   "source": [
    "import cv2\n",
    "import numpy as np\n",
    "from numpy import random"
   ]
  },
  {
   "cell_type": "code",
   "execution_count": 2,
   "id": "04b640fc",
   "metadata": {},
   "outputs": [],
   "source": [
    "#Load in the original image\n",
    "demo = cv2.imread(\"C:/Users/User/realgogo/car2.jpg\",cv2.IMREAD_UNCHANGED)\n",
    "r, c, t = demo.shape"
   ]
  },
  {
   "cell_type": "code",
   "execution_count": 3,
   "id": "3a435daf",
   "metadata": {},
   "outputs": [
    {
     "data": {
      "text/plain": [
       "<function destroyAllWindows>"
      ]
     },
     "execution_count": 3,
     "metadata": {},
     "output_type": "execute_result"
    }
   ],
   "source": [
    "# Display original image\n",
    "cv2.imshow(\"Original image\", demo)\n",
    "cv2.waitKey(0)\n",
    "cv2.destroyAllWindows"
   ]
  },
  {
   "cell_type": "code",
   "execution_count": 6,
   "id": "cfcd4f6e",
   "metadata": {},
   "outputs": [
    {
     "name": "stdout",
     "output_type": "stream",
     "text": [
      "[[[198  58  92]\n",
      "  [217 145 207]\n",
      "  [ 82  86 255]\n",
      "  ...\n",
      "  [219 171 198]\n",
      "  [151 137  38]\n",
      "  [137  82  96]]\n",
      "\n",
      " [[186 184 231]\n",
      "  [135 114  98]\n",
      "  [253 197 148]\n",
      "  ...\n",
      "  [ 25 128 108]\n",
      "  [ 12 103  42]\n",
      "  [145 179  50]]\n",
      "\n",
      " [[ 94 178 103]\n",
      "  [142  32 111]\n",
      "  [149 254 201]\n",
      "  ...\n",
      "  [180 150  88]\n",
      "  [122  16  15]\n",
      "  [ 52 106 200]]\n",
      "\n",
      " ...\n",
      "\n",
      " [[143 135 115]\n",
      "  [219  20   2]\n",
      "  [ 35 147 184]\n",
      "  ...\n",
      "  [232 128 102]\n",
      "  [158 232  51]\n",
      "  [184   7  67]]\n",
      "\n",
      " [[ 62 251 214]\n",
      "  [ 60  87  39]\n",
      "  [200 225 210]\n",
      "  ...\n",
      "  [ 84  97  68]\n",
      "  [ 85 101 220]\n",
      "  [112  82 169]]\n",
      "\n",
      " [[113 175 227]\n",
      "  [  6 232  93]\n",
      "  [131  31   0]\n",
      "  ...\n",
      "  [ 43 165 155]\n",
      "  [ 66 247   6]\n",
      "  [ 93  57 162]]]\n"
     ]
    }
   ],
   "source": [
    "# Create random key\n",
    "key = random.randint(256, size = (r, c, t))\n",
    "print (key)"
   ]
  },
  {
   "cell_type": "code",
   "execution_count": 7,
   "id": "8d88e624",
   "metadata": {},
   "outputs": [
    {
     "data": {
      "text/plain": [
       "<function destroyAllWindows>"
      ]
     },
     "execution_count": 7,
     "metadata": {},
     "output_type": "execute_result"
    }
   ],
   "source": [
    "# Encryption\n",
    "# Iterate over the image\n",
    "# Encryption\n",
    "# Iterate over the image\n",
    "encrypted_image = np.zeros((r, c, t), np.uint8)\n",
    "for row in range(r):\n",
    "    for column in range(c):\n",
    "        for depth in range(t):\n",
    "            encrypted_image[row, column, depth] = demo[row, column, depth] ^ key[row, column, depth] \n",
    "                 \n",
    "cv2.imshow(\"Encrypted image\", encrypted_image)\n",
    "cv2.waitKey(0)\n",
    "cv2.destroyAllWindows"
   ]
  },
  {
   "cell_type": "code",
   "execution_count": null,
   "id": "4a6c3a73",
   "metadata": {},
   "outputs": [],
   "source": [
    "# Decryption\n",
    "# Iterate over the encrypted image\n",
    "decrypted_image = np.zeros((r, c, t), np.uint8)\n",
    "for row in range(r):\n",
    "    for column in range(c):\n",
    "        for depth in range(t):\n",
    "            decrypted_image[row, column, depth] = encrypted_image[row, column, depth] ^ key[row, column, depth] \n",
    "            \n",
    "cv2.imshow(\"Decrypted Image\", decrypted_image)\n",
    "cv2.waitKey(0)\n",
    "cv2.destroyAllWindows()"
   ]
  },
  {
   "cell_type": "code",
   "execution_count": null,
   "id": "3110a134",
   "metadata": {},
   "outputs": [],
   "source": []
  }
 ],
 "metadata": {
  "kernelspec": {
   "display_name": "Python 3 (ipykernel)",
   "language": "python",
   "name": "python3"
  },
  "language_info": {
   "codemirror_mode": {
    "name": "ipython",
    "version": 3
   },
   "file_extension": ".py",
   "mimetype": "text/x-python",
   "name": "python",
   "nbconvert_exporter": "python",
   "pygments_lexer": "ipython3",
   "version": "3.9.7"
  }
 },
 "nbformat": 4,
 "nbformat_minor": 5
}
